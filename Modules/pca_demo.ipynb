{
 "cells": [
  {
   "cell_type": "markdown",
   "id": "d561ffd6-6161-4370-a72d-02e255695603",
   "metadata": {
    "tags": []
   },
   "source": [
    "# Principal Component Analysis (PCA)"
   ]
  },
  {
   "cell_type": "markdown",
   "id": "83b3bffd-87dc-4d01-a89c-4c2fed6e142c",
   "metadata": {
    "jp-MarkdownHeadingCollapsed": true
   },
   "source": [
    "## Iris Dataset"
   ]
  },
  {
   "cell_type": "markdown",
   "id": "623809df-3c46-4d37-854a-a0919f49433a",
   "metadata": {
    "jp-MarkdownHeadingCollapsed": true,
    "tags": []
   },
   "source": [
    "### Dependencies"
   ]
  },
  {
   "cell_type": "code",
   "execution_count": null,
   "id": "924a150b-e5de-4274-82e1-098615a1c1d1",
   "metadata": {},
   "outputs": [],
   "source": [
    "import numpy as np\n",
    "import pandas as pd\n",
    "from sklearn import datasets\n",
    "from sklearn.decomposition import PCA\n",
    "import matplotlib.pyplot as plt\n",
    "import seaborn as sns"
   ]
  },
  {
   "cell_type": "markdown",
   "id": "882babc5-bfad-4b16-b29c-4fad85d676ab",
   "metadata": {
    "jp-MarkdownHeadingCollapsed": true,
    "tags": []
   },
   "source": [
    "### Load the iris dataset"
   ]
  },
  {
   "cell_type": "code",
   "execution_count": null,
   "id": "ddc7fed8-5601-40ae-8e16-a83b2a2a048d",
   "metadata": {},
   "outputs": [],
   "source": [
    "iris = datasets.load_iris()\n",
    "df = pd.DataFrame(iris.data, columns=iris.feature_names)\n",
    "df.head()"
   ]
  },
  {
   "cell_type": "markdown",
   "id": "5cbd671c-c7f4-47e7-9d4a-7624c31e00ed",
   "metadata": {
    "jp-MarkdownHeadingCollapsed": true,
    "tags": []
   },
   "source": [
    "### Check the feature covariance"
   ]
  },
  {
   "cell_type": "code",
   "execution_count": null,
   "id": "3a90425a-744a-4d2a-b6fb-e0eb2797c7cd",
   "metadata": {},
   "outputs": [],
   "source": [
    "sns.heatmap(df.corr(), annot=True)\n",
    "plt.show()"
   ]
  },
  {
   "cell_type": "markdown",
   "id": "cd5b7e77-f3a5-4bbf-8fab-7afdc48f09ca",
   "metadata": {
    "tags": []
   },
   "source": [
    "### Ckeck sample separation"
   ]
  },
  {
   "cell_type": "code",
   "execution_count": null,
   "id": "61e4ab83-865f-4d9b-be7e-a3d6716acb32",
   "metadata": {},
   "outputs": [],
   "source": [
    "# Scatter plot of the iris dataset\n",
    "_, ax = plt.subplots()\n",
    "scatter = ax.scatter(iris.data[:, 0], iris.data[:, 1], c=iris.target)\n",
    "ax.set(xlabel=iris.feature_names[0], ylabel=iris.feature_names[1])\n",
    "_ = ax.legend(\n",
    "    scatter.legend_elements()[0], iris.target_names, loc=\"lower right\", title=\"Classes\"\n",
    ")"
   ]
  },
  {
   "cell_type": "markdown",
   "id": "65c675f4-8581-4e0d-be56-eb00a89e9627",
   "metadata": {
    "tags": []
   },
   "source": [
    "### Apply PCA"
   ]
  },
  {
   "cell_type": "code",
   "execution_count": null,
   "id": "522052df-b94d-448e-a2f1-beb2ec2440d6",
   "metadata": {},
   "outputs": [],
   "source": [
    "# unused but required import for doing 3d projections with matplotlib < 3.2\n",
    "# import mpl_toolkits.mplot3d  # noqa: F401\n",
    "from sklearn.decomposition import PCA\n",
    "\n",
    "pca = PCA()\n",
    "X = pca.fit_transform(iris.data)\n",
    "\n",
    "# scree plot\n",
    "print(pca.explained_variance_ratio_)\n",
    "plt.bar(x=['PC1','PC2','PC3','PC4'], height=100*pca.explained_variance_ratio_)\n",
    "plt.title('Scree Plot', fontsize=16)\n",
    "plt.ylabel('Explained variance, %')\n",
    "plt.yticks(np.arange(0, 101, 10))\n",
    "plt.grid(axis='y')\n",
    "plt.show()"
   ]
  },
  {
   "cell_type": "code",
   "execution_count": null,
   "id": "4b964a00-3b3b-4063-9b11-86bbd4634482",
   "metadata": {},
   "outputs": [],
   "source": [
    "fig = plt.figure(1, figsize=(8, 6))\n",
    "ax = fig.add_subplot(111)\n",
    "ax.scatter(\n",
    "    X[:, 0],\n",
    "    X[:, 1],\n",
    "    c=iris.target,\n",
    "    s=40,\n",
    ")\n",
    "ax.legend(\n",
    "    scatter.legend_elements()[0], iris.target_names, loc=\"lower right\", title=\"Classes\"\n",
    ")\n",
    "\n",
    "ax.set_title(\"First two PCA dimensions\")\n",
    "ax.set_xlabel(\"1st Eigenvector\")\n",
    "ax.xaxis.set_ticklabels([])\n",
    "ax.set_ylabel(\"2nd Eigenvector\")\n",
    "plt.show()"
   ]
  },
  {
   "cell_type": "markdown",
   "id": "b3932c81-65da-42ea-9332-e6d22206f03f",
   "metadata": {
    "tags": []
   },
   "source": [
    "### PCA loadings"
   ]
  },
  {
   "cell_type": "code",
   "execution_count": null,
   "id": "174e5eed-681b-435d-979e-6cdb4b0ac8a7",
   "metadata": {},
   "outputs": [],
   "source": [
    "loadings = pd.DataFrame(pca.components_.T * np.sqrt(pca.explained_variance_), \n",
    "                        columns=['PC1','PC2','PC3','PC4'], index=iris.feature_names)\n",
    "sns.heatmap(loadings, cmap='coolwarm', annot=True)\n",
    "plt.show()"
   ]
  },
  {
   "cell_type": "code",
   "execution_count": null,
   "id": "520d242f-46ba-4ea5-ac9a-6e67c9efb960",
   "metadata": {},
   "outputs": [],
   "source": [
    "# What are the important features for each Principal Component?\n",
    "\n",
    "# Set a threshold for which features to extract\n",
    "threshold = 0.3\n",
    "\n",
    "# Find features with loadings above the threshold for each principal component\n",
    "important_features = {}\n",
    "for column in loadings.columns:\n",
    "    important_features[column] = loadings.index[loadings[column].abs() > threshold].tolist()\n",
    "\n",
    "# Now 'important_features' dictionary contains the important features for each PC\n",
    "for pc, features in important_features.items():\n",
    "    print(f\"{pc}: {', '.join(features)}\")\n",
    "    print()"
   ]
  },
  {
   "cell_type": "markdown",
   "id": "8cc5d2ab-50ac-4d4f-a5ee-977e66f39942",
   "metadata": {
    "jp-MarkdownHeadingCollapsed": true
   },
   "source": [
    "## Beast Cancer Dataset"
   ]
  },
  {
   "cell_type": "code",
   "execution_count": null,
   "id": "c09b9389-dea1-40a3-a239-4967efacdd9b",
   "metadata": {},
   "outputs": [],
   "source": [
    "# import all libraries\n",
    "import pandas as pd\n",
    "import numpy as np\n",
    "import matplotlib.pyplot as plt\n",
    "%matplotlib inline\n",
    "from sklearn.decomposition import PCA\n",
    "from sklearn.preprocessing import StandardScaler"
   ]
  },
  {
   "cell_type": "code",
   "execution_count": null,
   "id": "5067184f-f91e-4f2b-b325-5619df8a67df",
   "metadata": {},
   "outputs": [],
   "source": [
    "#import the breast _cancer dataset\n",
    "from sklearn.datasets import load_breast_cancer\n",
    "data=load_breast_cancer()\n",
    "data.keys()\n",
    "\n",
    "# Check the output classes\n",
    "print(data['target_names'])\n",
    "\n",
    "# Check the input attributes\n",
    "print(data['feature_names'])"
   ]
  },
  {
   "cell_type": "code",
   "execution_count": null,
   "id": "d0ef81d4-d940-417b-94d9-c92d0c1071ec",
   "metadata": {},
   "outputs": [],
   "source": [
    "# construct a dataframe using pandas\n",
    "df1=pd.DataFrame(data['data'],columns=data['feature_names'])\n",
    "\n",
    "# Scale data before applying PCA\n",
    "scaling=StandardScaler()\n",
    "\n",
    "# Use fit and transform method \n",
    "scaling.fit(df1)\n",
    "Scaled_data=scaling.transform(df1)\n",
    "\n",
    "# Apply PCA\n",
    "principal=PCA()\n",
    "principal.fit(Scaled_data)\n",
    "x=principal.transform(Scaled_data)\n",
    "\n",
    "# Check the dimensions of data after PCA\n",
    "print(x.shape)"
   ]
  },
  {
   "cell_type": "code",
   "execution_count": null,
   "id": "c83cb418-0aad-46a0-9096-e485faa7f8d2",
   "metadata": {},
   "outputs": [],
   "source": [
    "# Plot Explained Variance Ratio\n",
    "explained_var_ratio = principal.explained_variance_ratio_\n",
    "\n",
    "plt.plot(range(1, len(explained_var_ratio) + 1), explained_var_ratio, marker='o')\n",
    "# plt.bar(range(1, len(explained_var_ratio) + 1), explained_var_ratio, edgecolor='k', color='none')\n",
    "plt.xlabel('Number of Principal Components')\n",
    "plt.ylabel('Explained Variance Ratio')\n",
    "plt.title('Scree Plot', fontsize=16)\n",
    "plt.grid(axis='y')\n",
    "plt.show()"
   ]
  },
  {
   "cell_type": "code",
   "execution_count": null,
   "id": "c8567526-4ff3-4fc6-96a2-6fd70324918d",
   "metadata": {},
   "outputs": [],
   "source": [
    "# Plot Explained Variance Ratio\n",
    "explained_var_ratio = principal.explained_variance_ratio_\n",
    "cumulative_var_ratio = np.cumsum(explained_var_ratio)\n",
    "\n",
    "plt.plot(range(1, len(cumulative_var_ratio) + 1), cumulative_var_ratio, marker='o')\n",
    "plt.xlabel('Number of Principal Components')\n",
    "plt.ylabel('Explained Variance Ratio')\n",
    "plt.title('Cummulative Explained Variance Ratio', fontsize=16)\n",
    "plt.axhline(y=0.95, color='k', linestyle='-.')  # 95% variance line\n",
    "plt.text(0.2, 0.96, '95% cut-off threshold', color = 'b', fontsize=14)\n",
    "plt.grid()\n",
    "plt.show()"
   ]
  },
  {
   "cell_type": "code",
   "execution_count": null,
   "id": "a82183c2-fcde-4b0f-910c-eff60bdf3d59",
   "metadata": {},
   "outputs": [],
   "source": [
    "# 2d scores plot\n",
    "plt.figure(figsize=(5,5))\n",
    "plt.scatter(x[:,0],x[:,1],c=data['target'],cmap='plasma')\n",
    "plt.xticks(fontsize=10)\n",
    "plt.yticks(fontsize=10)\n",
    "plt.xlabel('pc1', fontsize=12)\n",
    "plt.ylabel('pc2', fontsize=12)"
   ]
  },
  {
   "cell_type": "code",
   "execution_count": null,
   "id": "5cc461a4-03f4-443c-838f-a3f1f0f96cbd",
   "metadata": {},
   "outputs": [],
   "source": [
    "# 3d scores plot\n",
    "from mpl_toolkits.mplot3d import Axes3D\n",
    "fig = plt.figure(figsize=(8,8))\n",
    "\n",
    "# choose projection 3d for creating a 3d graph\n",
    "axis = fig.add_subplot(111, projection='3d')\n",
    "\n",
    "# x[:,0]is pc1,x[:,1] is pc2 while x[:,2] is pc3\n",
    "axis.scatter(x[:,0],x[:,1],x[:,2], c=data['target'],cmap='winter')\n",
    "\n",
    "axis.set_xlabel(\"PC1\")\n",
    "axis.set_ylabel(\"PC2\")\n",
    "axis.set_zlabel(\"PC3\")\n",
    "plt.xticks(fontsize=10)\n",
    "plt.yticks(fontsize=10)\n",
    "\n",
    "plt.show()\n"
   ]
  },
  {
   "cell_type": "code",
   "execution_count": null,
   "id": "370be94b-77be-44e6-b202-698f479b9bd0",
   "metadata": {},
   "outputs": [],
   "source": [
    "# check how much variance is explained by first 10 principal components\n",
    "print(principal.explained_variance_ratio_[:10])"
   ]
  },
  {
   "cell_type": "code",
   "execution_count": null,
   "id": "febaea61-000b-4d6a-877a-ee4b6cf1ed83",
   "metadata": {},
   "outputs": [],
   "source": [
    "# Check the values of eigen vectors\n",
    "# prodeced by principal components\n",
    "loadings = pd.DataFrame(principal.components_.T * np.sqrt(principal.explained_variance_),\n",
    "                        columns=[f'PC{i+1}' for i in range(0, principal.components_.shape[0])],\n",
    "                        index=data['feature_names']\n",
    "                       )\n",
    "loadings.head()"
   ]
  },
  {
   "cell_type": "code",
   "execution_count": null,
   "id": "c87eaa19-8b0c-4bfa-b171-9d86a0934cde",
   "metadata": {},
   "outputs": [],
   "source": [
    "# Let’s see a heatmap of all Principal Components:\n",
    "\n",
    "import seaborn as sns\n",
    "\n",
    "# Create a heatmap for the loadings\n",
    "plt.figure(figsize=(12, 8))\n",
    "# sns.heatmap(loadings, annot=True, annot_kws={\"size\":4}, cmap='BrBG')\n",
    "sns.heatmap(loadings, cmap='coolwarm')\n",
    "plt.title('PCA Loadings Heatmap')\n",
    "plt.show()"
   ]
  },
  {
   "cell_type": "code",
   "execution_count": null,
   "id": "1359fa8e-e9fa-4808-be27-8e77f0e48713",
   "metadata": {},
   "outputs": [],
   "source": [
    "# What are the important features for each Principal Component?\n",
    "\n",
    "# Assuming loadings is a pandas DataFrame with PCA loadings as given above\n",
    "import pandas as pd\n",
    "\n",
    "# Set a threshold for which features to extract\n",
    "threshold = 0.45\n",
    "\n",
    "# Find features with loadings above the threshold for each principal component\n",
    "important_features = {}\n",
    "for column in loadings.columns:\n",
    "    important_features[column] = loadings.index[loadings[column].abs() > threshold].tolist()\n",
    "\n",
    "# Now 'important_features' dictionary contains the important features for each PC\n",
    "for pc, features in important_features.items():\n",
    "    print(f\"{pc}: {', '.join(features)}\")\n",
    "    print()"
   ]
  },
  {
   "cell_type": "code",
   "execution_count": null,
   "id": "09d308a8-77b3-4b4a-bfc0-a50799992f91",
   "metadata": {},
   "outputs": [],
   "source": []
  }
 ],
 "metadata": {
  "kernelspec": {
   "display_name": "anaconda-panel-2023.05-py310",
   "language": "python",
   "name": "conda-env-anaconda-panel-2023.05-py310-py"
  },
  "language_info": {
   "codemirror_mode": {
    "name": "ipython",
    "version": 3
   },
   "file_extension": ".py",
   "mimetype": "text/x-python",
   "name": "python",
   "nbconvert_exporter": "python",
   "pygments_lexer": "ipython3",
   "version": "3.11.5"
  }
 },
 "nbformat": 4,
 "nbformat_minor": 5
}
