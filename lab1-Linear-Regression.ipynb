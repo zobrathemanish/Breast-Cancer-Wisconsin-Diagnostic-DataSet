{
 "cells": [
  {
   "cell_type": "markdown",
   "id": "03c4ece9-90c0-450f-8e95-cfdf8ba8667b",
   "metadata": {},
   "source": [
    "<h1><center> Lab 1 : Regression </center></h1>\n"
   ]
  },
  {
   "cell_type": "markdown",
   "id": "0c393587-53b8-4eb9-a363-f67d6c9a4098",
   "metadata": {},
   "source": [
    "<center>Manish Dangi  </center>\n"
   ]
  },
  {
   "cell_type": "markdown",
   "id": "bbf5124d-c9e6-472b-aa8b-126bb489b83e",
   "metadata": {},
   "source": [
    "<center>Introduction to Machine Learning </center>\n"
   ]
  },
  {
   "cell_type": "markdown",
   "id": "c85df9b1-58fd-4724-99d5-798f1bbb9a6c",
   "metadata": {},
   "source": [
    "<center> AIW24  </center>\n"
   ]
  },
  {
   "cell_type": "markdown",
   "id": "c9826662-325d-4d5f-997a-84f02b1e7ee3",
   "metadata": {},
   "source": [
    "<center>Muhammad Shahin </center>\n"
   ]
  },
  {
   "cell_type": "markdown",
   "id": "315d5c6f-ef6e-4d43-ae0a-19c60514a406",
   "metadata": {},
   "source": [
    "<center> 30th August 2024</center>"
   ]
  },
  {
   "cell_type": "markdown",
   "id": "9d931804-daef-4a5b-99cd-fae43aca11a5",
   "metadata": {},
   "source": [
    "# **Lab Report: Building a Multiple Linear Regression Model**\n",
    "\n",
    "## **Introduction**\n",
    "\n",
    "In this lab exercise, we aim to build a multiple linear regression model to predict the fuel efficiency of cars, measured in miles per gallon (mpg). The dataset contains various features such as the number of cylinders, engine displacement, horsepower, weight, acceleration, model year, and origin. We will explore the dataset, preprocess the data, and then build and evaluate the performance of a multiple linear regression model. Additionally, we will apply regularization techniques (ridge and lasso) to enhance the model's performance and check for non-linear relationships in the data.\n",
    "\n",
    "---\n",
    "\n",
    "## **Step 1: Import Required Libraries**"
   ]
  },
  {
   "cell_type": "code",
   "execution_count": 49,
   "id": "b515922c-d121-4f96-8288-fbdaac5e8bb0",
   "metadata": {},
   "outputs": [],
   "source": [
    "import pandas as pd\n",
    "import numpy as np\n",
    "import matplotlib.pyplot as plt\n",
    "import seaborn as sns\n",
    "from sklearn.model_selection import train_test_split\n",
    "from sklearn.linear_model import LinearRegression, Ridge, Lasso\n",
    "from sklearn.metrics import mean_squared_error, r2_score\n",
    "from sklearn.preprocessing import PolynomialFeatures\n",
    "from scipy import stats\n"
   ]
  },
  {
   "cell_type": "markdown",
   "id": "a10daaa3-d600-43ab-98d2-567c16cb7060",
   "metadata": {},
   "source": [
    "## **Step 2: Load and Explore the Dataset**"
   ]
  },
  {
   "cell_type": "markdown",
   "id": "62ed4608-a198-4d97-b7c4-44bdd2a04842",
   "metadata": {},
   "source": [
    "**Exploration:** The dataset provides information on various car features. Initially, we'll inspect the first few rows, summary statistics, and check for missing values to understand the data structure and quality."
   ]
  },
  {
   "cell_type": "code",
   "execution_count": 50,
   "id": "a8f43b0d-86c9-45ae-ac3c-aa3f14fc8af6",
   "metadata": {},
   "outputs": [],
   "source": [
    "import pandas as pd\n",
    "\n",
    "# Load the dataset\n",
    "auto_df = pd.read_csv(\"/Users/manish/Documents/UOW/ml/labs/lab1/auto.csv\")"
   ]
  },
  {
   "cell_type": "code",
   "execution_count": 51,
   "id": "57ce7f9b-b691-4487-b6b7-8238635dace5",
   "metadata": {},
   "outputs": [
    {
     "name": "stdout",
     "output_type": "stream",
     "text": [
      "    mpg  cylinders  displacement horsepower  weight  acceleration  year  \\\n",
      "0  18.0          8         307.0        130    3504          12.0    70   \n",
      "1  15.0          8         350.0        165    3693          11.5    70   \n",
      "2  18.0          8         318.0        150    3436          11.0    70   \n",
      "3  16.0          8         304.0        150    3433          12.0    70   \n",
      "4  17.0          8         302.0        140    3449          10.5    70   \n",
      "\n",
      "   origin                       name  \n",
      "0       1  chevrolet chevelle malibu  \n",
      "1       1          buick skylark 320  \n",
      "2       1         plymouth satellite  \n",
      "3       1              amc rebel sst  \n",
      "4       1                ford torino  \n",
      "              mpg   cylinders  displacement       weight  acceleration  \\\n",
      "count  397.000000  397.000000    397.000000   397.000000    397.000000   \n",
      "mean    23.515869    5.458438    193.532746  2970.261965     15.555668   \n",
      "std      7.825804    1.701577    104.379583   847.904119      2.749995   \n",
      "min      9.000000    3.000000     68.000000  1613.000000      8.000000   \n",
      "25%     17.500000    4.000000    104.000000  2223.000000     13.800000   \n",
      "50%     23.000000    4.000000    146.000000  2800.000000     15.500000   \n",
      "75%     29.000000    8.000000    262.000000  3609.000000     17.100000   \n",
      "max     46.600000    8.000000    455.000000  5140.000000     24.800000   \n",
      "\n",
      "             year      origin  \n",
      "count  397.000000  397.000000  \n",
      "mean    75.994962    1.574307  \n",
      "std      3.690005    0.802549  \n",
      "min     70.000000    1.000000  \n",
      "25%     73.000000    1.000000  \n",
      "50%     76.000000    1.000000  \n",
      "75%     79.000000    2.000000  \n",
      "max     82.000000    3.000000  \n",
      "mpg             0\n",
      "cylinders       0\n",
      "displacement    0\n",
      "horsepower      0\n",
      "weight          0\n",
      "acceleration    0\n",
      "year            0\n",
      "origin          0\n",
      "name            0\n",
      "dtype: int64\n"
     ]
    }
   ],
   "source": [
    "# Display the first few rows of the dataset\n",
    "print(auto_df.head())\n",
    "\n",
    "# Summary statistics\n",
    "print(auto_df.describe())\n",
    "\n",
    "# Check for missing values\n",
    "print(auto_df.isnull().sum())"
   ]
  },
  {
   "cell_type": "markdown",
   "id": "f7a617f0-ea77-4c7c-9482-4725f47d40a2",
   "metadata": {},
   "source": [
    "## **Step 3: Data Preprocessing**"
   ]
  },
  {
   "cell_type": "markdown",
   "id": "ae49e408-1632-4acd-93d4-4499530517a0",
   "metadata": {},
   "source": [
    "We identified a '?' character in the **horsepower** column, which indicates missing or invalid data. We will remove these rows to ensure the dataset is clean for modeling."
   ]
  },
  {
   "cell_type": "code",
   "execution_count": 52,
   "id": "31618ace-0ee9-4eed-b453-010495d2bb46",
   "metadata": {},
   "outputs": [],
   "source": [
    "# Remove rows with '?' values\n",
    "auto_df = auto_df[auto_df['horsepower'] != '?']\n",
    "\n",
    "# Convert 'horsepower' to numeric after removing rows\n",
    "auto_df['horsepower'] = pd.to_numeric(auto_df['horsepower'])\n"
   ]
  },
  {
   "cell_type": "markdown",
   "id": "f85e0676-7c31-4fbf-bbfe-9af93b732a33",
   "metadata": {},
   "source": [
    "Also drop the name column which is non numeric column"
   ]
  },
  {
   "cell_type": "code",
   "execution_count": 53,
   "id": "3695a565-a355-4f0e-9fb9-34994fd26a40",
   "metadata": {},
   "outputs": [],
   "source": [
    "# Drop the non-numeric column \n",
    "auto_df = auto_df.drop(['name'], axis=1)"
   ]
  },
  {
   "cell_type": "markdown",
   "id": "81843434-23a0-4cc3-897b-47b57b72074c",
   "metadata": {},
   "source": [
    "**Outlier Detection and Removal**\n",
    "\n",
    "We will use both the Z-score and Interquartile Range (IQR) methods to detect and remove outliers. Outliers can significantly skew model performance, so removing them can lead to more accurate predictions."
   ]
  },
  {
   "cell_type": "code",
   "execution_count": 54,
   "id": "2c42c2f1-f781-460c-947f-078f7ffb2cbe",
   "metadata": {},
   "outputs": [
    {
     "name": "stderr",
     "output_type": "stream",
     "text": [
      "/var/folders/dy/ysjjzh0121qb38fzyck4zbdh0000gn/T/ipykernel_5638/3983192692.py:12: UserWarning: Boolean Series key will be reindexed to match DataFrame index.\n",
      "  auto_df_cleaned = auto_df_cleaned[~outliers_mask_iqr]\n"
     ]
    }
   ],
   "source": [
    "# Z-score method\n",
    "numeric_df = auto_df.select_dtypes(include=[np.number])\n",
    "z_scores = np.abs(stats.zscore(numeric_df))\n",
    "outliers_mask = (z_scores > 3).any(axis=1)\n",
    "auto_df_cleaned = auto_df[~outliers_mask]\n",
    "\n",
    "# IQR method\n",
    "Q1 = numeric_df.quantile(0.25)\n",
    "Q3 = numeric_df.quantile(0.75)\n",
    "IQR = Q3 - Q1\n",
    "outliers_mask_iqr = ((numeric_df < (Q1 - 1.5 * IQR)) | (numeric_df > (Q3 + 1.5 * IQR))).any(axis=1)\n",
    "auto_df_cleaned = auto_df_cleaned[~outliers_mask_iqr]\n"
   ]
  },
  {
   "cell_type": "markdown",
   "id": "1f81a080-dd4a-411c-aa06-b650f7687139",
   "metadata": {},
   "source": [
    "**Result:** After outlier removal, the dataset is ready for further analysis. We reduced noise in the data, which will help in building a more robust model."
   ]
  },
  {
   "cell_type": "markdown",
   "id": "ec2e5075-81f1-4493-9c45-2388947852cd",
   "metadata": {},
   "source": [
    " **One-Hot Encoding for Categorical Variables**"
   ]
  },
  {
   "cell_type": "markdown",
   "id": "d7be229d-951a-4035-8340-0f2e1b948a43",
   "metadata": {},
   "source": [
    "The **cylinders** feature, although numeric, represents discrete categories and should be treated as a categorical variable. We will apply one-hot encoding to convert it into a format suitable for modeling."
   ]
  },
  {
   "cell_type": "code",
   "execution_count": 55,
   "id": "07e7806f-ad24-4561-a719-28619771a70f",
   "metadata": {},
   "outputs": [],
   "source": [
    "# One-hot encode the 'cylinders' column\n",
    "auto_df_cleaned = pd.get_dummies(auto_df_cleaned, columns=['cylinders'], drop_first=True)\n"
   ]
  },
  {
   "cell_type": "markdown",
   "id": "cffd1876-8367-4871-9567-582ef3048237",
   "metadata": {},
   "source": [
    "**Explanation:** This step creates binary columns for each unique value of cylinders, which allows the regression model to treat each cylinder category independently without assuming a linear relationship."
   ]
  },
  {
   "cell_type": "markdown",
   "id": "8b49a4e0-c2c3-44b9-878b-67a50a788215",
   "metadata": {},
   "source": [
    "## **Step 4: Split Data into Training and Testing Sets**"
   ]
  },
  {
   "cell_type": "markdown",
   "id": "e9d2275b-5dbf-445d-a1ad-bc4f18dda93e",
   "metadata": {},
   "source": [
    "We will split the cleaned dataset into training and testing sets to evaluate the model's performance on unseen data."
   ]
  },
  {
   "cell_type": "code",
   "execution_count": 56,
   "id": "6c45f581-cee6-4bd4-b30d-42df9ce33f0d",
   "metadata": {},
   "outputs": [],
   "source": [
    "# Define the target and features\n",
    "X = auto_df_cleaned.drop('mpg', axis=1)\n",
    "y = auto_df_cleaned['mpg']\n",
    "\n",
    "# Split the data\n",
    "X_train, X_test, y_train, y_test = train_test_split(X, y, test_size=0.3, random_state=42)\n"
   ]
  },
  {
   "cell_type": "markdown",
   "id": "2083d93f-b5f8-4698-bef0-891b62469997",
   "metadata": {},
   "source": [
    "Explanation: We set aside 20% of the data as a test set to evaluate model performance after training."
   ]
  },
  {
   "cell_type": "markdown",
   "id": "21753cea-f685-4db6-bed6-1450a43a4797",
   "metadata": {},
   "source": [
    "## **Step 5: Train a Multiple Linear Regression Model**"
   ]
  },
  {
   "cell_type": "markdown",
   "id": "6cc224e0-f544-4ca2-8620-b56bcd95f009",
   "metadata": {},
   "source": [
    "We will train a linear regression model using the training data and evaluate its performance using Mean Squared Error (MSE) and R-squared (R²) on the test data."
   ]
  },
  {
   "cell_type": "code",
   "execution_count": 57,
   "id": "83d3d3e9-2057-438b-a00f-001b31e5fbab",
   "metadata": {},
   "outputs": [
    {
     "name": "stdout",
     "output_type": "stream",
     "text": [
      "Linear Regression MSE: 9.607388704757296\n",
      "Linear Regression R^2: 0.8470521928746011\n"
     ]
    }
   ],
   "source": [
    "# Train the model\n",
    "lr_model = LinearRegression()\n",
    "lr_model.fit(X_train, y_train)\n",
    "\n",
    "# Predict and evaluate\n",
    "y_pred = lr_model.predict(X_test)\n",
    "mse = mean_squared_error(y_test, y_pred)\n",
    "r2 = r2_score(y_test, y_pred)\n",
    "\n",
    "print(f\"Linear Regression MSE: {mse}\")\n",
    "print(f\"Linear Regression R^2: {r2}\")\n"
   ]
  },
  {
   "cell_type": "markdown",
   "id": "82c87390-eddb-4a34-ac83-77e5d4a1a7cb",
   "metadata": {},
   "source": [
    "**Result:** The initial model performance metrics (MSE and R²) provide a baseline for further improvements, such as applying regularization techniques."
   ]
  },
  {
   "cell_type": "markdown",
   "id": "1a174dc2-8c9f-4ec5-b8cb-b81bcc30ea5d",
   "metadata": {},
   "source": [
    "## **Step 6: Examine Feature Significance**"
   ]
  },
  {
   "cell_type": "markdown",
   "id": "a1af1850-0242-4170-94c5-7fdcd0e88c20",
   "metadata": {},
   "source": [
    "We will analyze the coefficients of the linear regression model to understand the impact of each feature on the target variable **mpg**."
   ]
  },
  {
   "cell_type": "code",
   "execution_count": 58,
   "id": "6d908cb6-2743-4589-80d2-1e05417a5d36",
   "metadata": {},
   "outputs": [
    {
     "name": "stdout",
     "output_type": "stream",
     "text": [
      "              Coefficient\n",
      "displacement     0.015918\n",
      "horsepower      -0.077794\n",
      "weight          -0.004477\n",
      "acceleration    -0.177504\n",
      "year             0.728276\n",
      "origin           1.429940\n",
      "cylinders_4      8.069624\n",
      "cylinders_5      8.668576\n",
      "cylinders_6      4.890269\n",
      "cylinders_8      7.047013\n"
     ]
    }
   ],
   "source": [
    "# Examine feature coefficients\n",
    "coefficients = pd.DataFrame(lr_model.coef_, X.columns, columns=['Coefficient'])\n",
    "print(coefficients)\n"
   ]
  },
  {
   "cell_type": "markdown",
   "id": "e40f5724-ced6-48ab-a552-8d59d43ed09f",
   "metadata": {},
   "source": [
    "**Interpretation:** Each coefficient represents the change in mpg for a one-unit change in the corresponding feature, holding other features constant. Features with larger absolute coefficients have a more significant impact on the target."
   ]
  },
  {
   "cell_type": "markdown",
   "id": "d6e1e10c-083f-46d7-ae93-7a92162a9659",
   "metadata": {},
   "source": [
    "**Significanace test**"
   ]
  },
  {
   "cell_type": "code",
   "execution_count": 59,
   "id": "b5a6de92-d873-4309-b70e-3a36bad91ab2",
   "metadata": {},
   "outputs": [
    {
     "data": {
      "text/html": [
       "<table class=\"simpletable\">\n",
       "<caption>OLS Regression Results</caption>\n",
       "<tr>\n",
       "  <th>Dep. Variable:</th>           <td>mpg</td>       <th>  R-squared:         </th> <td>   0.821</td> \n",
       "</tr>\n",
       "<tr>\n",
       "  <th>Model:</th>                   <td>OLS</td>       <th>  Adj. R-squared:    </th> <td>   0.818</td> \n",
       "</tr>\n",
       "<tr>\n",
       "  <th>Method:</th>             <td>Least Squares</td>  <th>  F-statistic:       </th> <td>   252.4</td> \n",
       "</tr>\n",
       "<tr>\n",
       "  <th>Date:</th>             <td>Fri, 30 Aug 2024</td> <th>  Prob (F-statistic):</th> <td>2.04e-139</td>\n",
       "</tr>\n",
       "<tr>\n",
       "  <th>Time:</th>                 <td>17:05:22</td>     <th>  Log-Likelihood:    </th> <td> -1023.5</td> \n",
       "</tr>\n",
       "<tr>\n",
       "  <th>No. Observations:</th>      <td>   392</td>      <th>  AIC:               </th> <td>   2063.</td> \n",
       "</tr>\n",
       "<tr>\n",
       "  <th>Df Residuals:</th>          <td>   384</td>      <th>  BIC:               </th> <td>   2095.</td> \n",
       "</tr>\n",
       "<tr>\n",
       "  <th>Df Model:</th>              <td>     7</td>      <th>                     </th>     <td> </td>    \n",
       "</tr>\n",
       "<tr>\n",
       "  <th>Covariance Type:</th>      <td>nonrobust</td>    <th>                     </th>     <td> </td>    \n",
       "</tr>\n",
       "</table>\n",
       "<table class=\"simpletable\">\n",
       "<tr>\n",
       "        <td></td>          <th>coef</th>     <th>std err</th>      <th>t</th>      <th>P>|t|</th>  <th>[0.025</th>    <th>0.975]</th>  \n",
       "</tr>\n",
       "<tr>\n",
       "  <th>Intercept</th>    <td>  -17.2184</td> <td>    4.644</td> <td>   -3.707</td> <td> 0.000</td> <td>  -26.350</td> <td>   -8.087</td>\n",
       "</tr>\n",
       "<tr>\n",
       "  <th>cylinders</th>    <td>   -0.4934</td> <td>    0.323</td> <td>   -1.526</td> <td> 0.128</td> <td>   -1.129</td> <td>    0.142</td>\n",
       "</tr>\n",
       "<tr>\n",
       "  <th>displacement</th> <td>    0.0199</td> <td>    0.008</td> <td>    2.647</td> <td> 0.008</td> <td>    0.005</td> <td>    0.035</td>\n",
       "</tr>\n",
       "<tr>\n",
       "  <th>horsepower</th>   <td>   -0.0170</td> <td>    0.014</td> <td>   -1.230</td> <td> 0.220</td> <td>   -0.044</td> <td>    0.010</td>\n",
       "</tr>\n",
       "<tr>\n",
       "  <th>weight</th>       <td>   -0.0065</td> <td>    0.001</td> <td>   -9.929</td> <td> 0.000</td> <td>   -0.008</td> <td>   -0.005</td>\n",
       "</tr>\n",
       "<tr>\n",
       "  <th>acceleration</th> <td>    0.0806</td> <td>    0.099</td> <td>    0.815</td> <td> 0.415</td> <td>   -0.114</td> <td>    0.275</td>\n",
       "</tr>\n",
       "<tr>\n",
       "  <th>year</th>         <td>    0.7508</td> <td>    0.051</td> <td>   14.729</td> <td> 0.000</td> <td>    0.651</td> <td>    0.851</td>\n",
       "</tr>\n",
       "<tr>\n",
       "  <th>origin</th>       <td>    1.4261</td> <td>    0.278</td> <td>    5.127</td> <td> 0.000</td> <td>    0.879</td> <td>    1.973</td>\n",
       "</tr>\n",
       "</table>\n",
       "<table class=\"simpletable\">\n",
       "<tr>\n",
       "  <th>Omnibus:</th>       <td>31.906</td> <th>  Durbin-Watson:     </th> <td>   1.309</td>\n",
       "</tr>\n",
       "<tr>\n",
       "  <th>Prob(Omnibus):</th> <td> 0.000</td> <th>  Jarque-Bera (JB):  </th> <td>  53.100</td>\n",
       "</tr>\n",
       "<tr>\n",
       "  <th>Skew:</th>          <td> 0.529</td> <th>  Prob(JB):          </th> <td>2.95e-12</td>\n",
       "</tr>\n",
       "<tr>\n",
       "  <th>Kurtosis:</th>      <td> 4.460</td> <th>  Cond. No.          </th> <td>8.59e+04</td>\n",
       "</tr>\n",
       "</table><br/><br/>Notes:<br/>[1] Standard Errors assume that the covariance matrix of the errors is correctly specified.<br/>[2] The condition number is large, 8.59e+04. This might indicate that there are<br/>strong multicollinearity or other numerical problems."
      ],
      "text/latex": [
       "\\begin{center}\n",
       "\\begin{tabular}{lclc}\n",
       "\\toprule\n",
       "\\textbf{Dep. Variable:}    &       mpg        & \\textbf{  R-squared:         } &     0.821   \\\\\n",
       "\\textbf{Model:}            &       OLS        & \\textbf{  Adj. R-squared:    } &     0.818   \\\\\n",
       "\\textbf{Method:}           &  Least Squares   & \\textbf{  F-statistic:       } &     252.4   \\\\\n",
       "\\textbf{Date:}             & Fri, 30 Aug 2024 & \\textbf{  Prob (F-statistic):} & 2.04e-139   \\\\\n",
       "\\textbf{Time:}             &     17:05:22     & \\textbf{  Log-Likelihood:    } &   -1023.5   \\\\\n",
       "\\textbf{No. Observations:} &         392      & \\textbf{  AIC:               } &     2063.   \\\\\n",
       "\\textbf{Df Residuals:}     &         384      & \\textbf{  BIC:               } &     2095.   \\\\\n",
       "\\textbf{Df Model:}         &           7      & \\textbf{                     } &             \\\\\n",
       "\\textbf{Covariance Type:}  &    nonrobust     & \\textbf{                     } &             \\\\\n",
       "\\bottomrule\n",
       "\\end{tabular}\n",
       "\\begin{tabular}{lcccccc}\n",
       "                      & \\textbf{coef} & \\textbf{std err} & \\textbf{t} & \\textbf{P$> |$t$|$} & \\textbf{[0.025} & \\textbf{0.975]}  \\\\\n",
       "\\midrule\n",
       "\\textbf{Intercept}    &     -17.2184  &        4.644     &    -3.707  &         0.000        &      -26.350    &       -8.087     \\\\\n",
       "\\textbf{cylinders}    &      -0.4934  &        0.323     &    -1.526  &         0.128        &       -1.129    &        0.142     \\\\\n",
       "\\textbf{displacement} &       0.0199  &        0.008     &     2.647  &         0.008        &        0.005    &        0.035     \\\\\n",
       "\\textbf{horsepower}   &      -0.0170  &        0.014     &    -1.230  &         0.220        &       -0.044    &        0.010     \\\\\n",
       "\\textbf{weight}       &      -0.0065  &        0.001     &    -9.929  &         0.000        &       -0.008    &       -0.005     \\\\\n",
       "\\textbf{acceleration} &       0.0806  &        0.099     &     0.815  &         0.415        &       -0.114    &        0.275     \\\\\n",
       "\\textbf{year}         &       0.7508  &        0.051     &    14.729  &         0.000        &        0.651    &        0.851     \\\\\n",
       "\\textbf{origin}       &       1.4261  &        0.278     &     5.127  &         0.000        &        0.879    &        1.973     \\\\\n",
       "\\bottomrule\n",
       "\\end{tabular}\n",
       "\\begin{tabular}{lclc}\n",
       "\\textbf{Omnibus:}       & 31.906 & \\textbf{  Durbin-Watson:     } &    1.309  \\\\\n",
       "\\textbf{Prob(Omnibus):} &  0.000 & \\textbf{  Jarque-Bera (JB):  } &   53.100  \\\\\n",
       "\\textbf{Skew:}          &  0.529 & \\textbf{  Prob(JB):          } & 2.95e-12  \\\\\n",
       "\\textbf{Kurtosis:}      &  4.460 & \\textbf{  Cond. No.          } & 8.59e+04  \\\\\n",
       "\\bottomrule\n",
       "\\end{tabular}\n",
       "%\\caption{OLS Regression Results}\n",
       "\\end{center}\n",
       "\n",
       "Notes: \\newline\n",
       " [1] Standard Errors assume that the covariance matrix of the errors is correctly specified. \\newline\n",
       " [2] The condition number is large, 8.59e+04. This might indicate that there are \\newline\n",
       " strong multicollinearity or other numerical problems."
      ],
      "text/plain": [
       "<class 'statsmodels.iolib.summary.Summary'>\n",
       "\"\"\"\n",
       "                            OLS Regression Results                            \n",
       "==============================================================================\n",
       "Dep. Variable:                    mpg   R-squared:                       0.821\n",
       "Model:                            OLS   Adj. R-squared:                  0.818\n",
       "Method:                 Least Squares   F-statistic:                     252.4\n",
       "Date:                Fri, 30 Aug 2024   Prob (F-statistic):          2.04e-139\n",
       "Time:                        17:05:22   Log-Likelihood:                -1023.5\n",
       "No. Observations:                 392   AIC:                             2063.\n",
       "Df Residuals:                     384   BIC:                             2095.\n",
       "Df Model:                           7                                         \n",
       "Covariance Type:            nonrobust                                         \n",
       "================================================================================\n",
       "                   coef    std err          t      P>|t|      [0.025      0.975]\n",
       "--------------------------------------------------------------------------------\n",
       "Intercept      -17.2184      4.644     -3.707      0.000     -26.350      -8.087\n",
       "cylinders       -0.4934      0.323     -1.526      0.128      -1.129       0.142\n",
       "displacement     0.0199      0.008      2.647      0.008       0.005       0.035\n",
       "horsepower      -0.0170      0.014     -1.230      0.220      -0.044       0.010\n",
       "weight          -0.0065      0.001     -9.929      0.000      -0.008      -0.005\n",
       "acceleration     0.0806      0.099      0.815      0.415      -0.114       0.275\n",
       "year             0.7508      0.051     14.729      0.000       0.651       0.851\n",
       "origin           1.4261      0.278      5.127      0.000       0.879       1.973\n",
       "==============================================================================\n",
       "Omnibus:                       31.906   Durbin-Watson:                   1.309\n",
       "Prob(Omnibus):                  0.000   Jarque-Bera (JB):               53.100\n",
       "Skew:                           0.529   Prob(JB):                     2.95e-12\n",
       "Kurtosis:                       4.460   Cond. No.                     8.59e+04\n",
       "==============================================================================\n",
       "\n",
       "Notes:\n",
       "[1] Standard Errors assume that the covariance matrix of the errors is correctly specified.\n",
       "[2] The condition number is large, 8.59e+04. This might indicate that there are\n",
       "strong multicollinearity or other numerical problems.\n",
       "\"\"\""
      ]
     },
     "execution_count": 59,
     "metadata": {},
     "output_type": "execute_result"
    }
   ],
   "source": [
    "model_lin = sm.OLS.from_formula(\"mpg ~ cylinders + displacement + horsepower + weight + acceleration + year + origin\", data=auto_df)\n",
    "result_lin = model_lin.fit()\n",
    "result_lin.summary()\n"
   ]
  },
  {
   "cell_type": "markdown",
   "id": "0f851274-2e77-426a-ae94-feb478c5f64b",
   "metadata": {},
   "source": [
    "## **Step 7: Apply and Compare Model Regularization**"
   ]
  },
  {
   "cell_type": "markdown",
   "id": "befc20f8-bbda-4277-910e-eb9f84ecca17",
   "metadata": {},
   "source": [
    "Regularization techniques like ridge and lasso can help improve model performance by penalizing large coefficients, which reduces overfitting."
   ]
  },
  {
   "cell_type": "markdown",
   "id": "122f0f3a-e214-4546-ac77-702e9f2578bd",
   "metadata": {},
   "source": [
    "**Ridge regularization**"
   ]
  },
  {
   "cell_type": "code",
   "execution_count": 60,
   "id": "f6bbec7f-701e-49d3-ba1b-33f7b71b3ab2",
   "metadata": {},
   "outputs": [
    {
     "name": "stdout",
     "output_type": "stream",
     "text": [
      "Ridge Regression MSE: 9.563249187114033\n",
      "Ridge Regression R^2: 0.8477548856289566\n"
     ]
    }
   ],
   "source": [
    "ridge_model = Ridge(alpha=0.1)\n",
    "ridge_model.fit(X_train, y_train)\n",
    "y_pred_ridge = ridge_model.predict(X_test)\n",
    "\n",
    "mse_ridge = mean_squared_error(y_test, y_pred_ridge)\n",
    "r2_ridge = r2_score(y_test, y_pred_ridge)\n",
    "\n",
    "print(f\"Ridge Regression MSE: {mse_ridge}\")\n",
    "print(f\"Ridge Regression R^2: {r2_ridge}\")\n"
   ]
  },
  {
   "cell_type": "markdown",
   "id": "bcc51576-a861-4a61-a31a-e7687868fc30",
   "metadata": {},
   "source": [
    "**Lasso regularization**"
   ]
  },
  {
   "cell_type": "code",
   "execution_count": 61,
   "id": "6cf96548-d334-4b53-bc0a-a8758b91eaae",
   "metadata": {},
   "outputs": [
    {
     "name": "stdout",
     "output_type": "stream",
     "text": [
      "Lasso Regression MSE: 9.77100190495595\n",
      "Lasso Regression R^2: 0.8444475017398746\n"
     ]
    }
   ],
   "source": [
    "lasso_model = Lasso(alpha=0.1)\n",
    "lasso_model.fit(X_train, y_train)\n",
    "y_pred_lasso = lasso_model.predict(X_test)\n",
    "\n",
    "mse_lasso = mean_squared_error(y_test, y_pred_lasso)\n",
    "r2_lasso = r2_score(y_test, y_pred_lasso)\n",
    "\n",
    "print(f\"Lasso Regression MSE: {mse_lasso}\")\n",
    "print(f\"Lasso Regression R^2: {r2_lasso}\")\n"
   ]
  },
  {
   "cell_type": "markdown",
   "id": "19e0d068-9d9d-4ed8-977d-b8790db6c9ac",
   "metadata": {},
   "source": [
    "#### **Comparison of Model Regularization with Ridge and Lasso**\n",
    "\n",
    "**1. Linear Regression (No Regularization)**\n",
    "\n",
    "    MSE: 9.607\n",
    "    R²: 0.847\n",
    "    Interpretation: This is the baseline model. The performance is decent with an R² of 0.847, meaning about 84.7% of the variance in the target variable (mpg) is explained by the features.\n",
    "\n",
    "**2. Ridge Regression**\n",
    "\n",
    "    MSE: 9.563\n",
    "    R²: 0.848\n",
    "    Interpretation: Ridge regression slightly improves the R² to 0.848 and decreases the MSE to 9.563. This indicates that Ridge regularization helps in reducing overfitting by penalizing large coefficients, leading to a minor improvement in the model's predictive performance.\n",
    "\n",
    "**3. Lasso Regression**\n",
    "\n",
    "    MSE: 9.771\n",
    "    R²: 0.844\n",
    "    Interpretation: Lasso regression results in a slightly higher MSE of 9.771 and a lower R² of 0.844 compared to the baseline model. Lasso tends to perform feature selection by shrinking some coefficients to zero, which might have led to the exclusion of some relevant features, resulting in slightly reduced model performance."
   ]
  },
  {
   "cell_type": "markdown",
   "id": "3b9ddf51-6328-458f-83c3-d4d24d3c666d",
   "metadata": {},
   "source": [
    "#### **Summary of Performance Before and After Regularization**"
   ]
  },
  {
   "cell_type": "markdown",
   "id": "b613e612-73ff-4ad6-9cdd-3acf5aee5a7d",
   "metadata": {},
   "source": [
    "**Before Regularization:** The linear regression model had an R² of 0.847, which serves as the baseline for comparison.\n",
    "** After Regularization: **\n",
    "\n",
    "- **Ridge Regression:** Provided a slight improvement in model performance with a marginal increase in R² to 0.848 and a decrease in MSE. Ridge is effective in reducing overfitting by penalizing large coefficients without completely eliminating them.\n",
    "- **Lasso Regression:** Did not improve the model performance compared to the baseline. The R² decreased slightly, indicating that Lasso's feature selection mechanism might have excluded some influential features."
   ]
  },
  {
   "cell_type": "markdown",
   "id": "6f2a1b36-959e-4730-bbfc-f3106362d399",
   "metadata": {},
   "source": [
    "## **Step 8: Check for Non-Linear Relationships**"
   ]
  },
  {
   "cell_type": "markdown",
   "id": "ac7853e6-7d8e-4986-8dfc-f2bdabfd0922",
   "metadata": {},
   "source": [
    "Non-linear relationships between features and the target can reduce the effectiveness of a linear model. We will explore this by creating polynomial features and training a polynomial regression model."
   ]
  },
  {
   "cell_type": "code",
   "execution_count": 62,
   "id": "f394527e-9a27-41a0-a532-4b5a2111a98d",
   "metadata": {},
   "outputs": [
    {
     "name": "stdout",
     "output_type": "stream",
     "text": [
      "Polynomial Regression MSE: 11.176546593802897\n",
      "Polynomial Regression R^2: 0.8238708983449261\n"
     ]
    }
   ],
   "source": [
    "# Polynomial features\n",
    "poly = PolynomialFeatures(degree=2)\n",
    "X_poly = poly.fit_transform(X)\n",
    "\n",
    "# Train and evaluate the polynomial model\n",
    "X_train_poly, X_test_poly, y_train_poly, y_test_poly = train_test_split(X_poly, y, test_size=0.2, random_state=42)\n",
    "poly_model = LinearRegression()\n",
    "poly_model.fit(X_train_poly, y_train_poly)\n",
    "y_pred_poly = poly_model.predict(X_test_poly)\n",
    "\n",
    "mse_poly = mean_squared_error(y_test_poly, y_pred_poly)\n",
    "r2_poly = r2_score(y_test_poly, y_pred_poly)\n",
    "\n",
    "print(f\"Polynomial Regression MSE: {mse_poly}\")\n",
    "print(f\"Polynomial Regression R^2: {r2_poly}\")\n"
   ]
  },
  {
   "cell_type": "markdown",
   "id": "87f58995-79f0-49f7-bee7-bde2afe81661",
   "metadata": {},
   "source": [
    "**Result:** The polynomial model did not show improvement, this suggests the absence of non-linear relationships."
   ]
  },
  {
   "cell_type": "markdown",
   "id": "e3d29a52-f93c-44af-b7ca-6c1a1388e926",
   "metadata": {},
   "source": [
    "## **Step 9: Visualize Results**"
   ]
  },
  {
   "cell_type": "markdown",
   "id": "8735898c-d24d-4ab2-b787-ccdcb5bd7cde",
   "metadata": {},
   "source": [
    "Visualizing the results helps in understanding how well the model predicts the target variable."
   ]
  },
  {
   "cell_type": "code",
   "execution_count": 63,
   "id": "e6863835-0969-4590-9460-aaaa949d4562",
   "metadata": {},
   "outputs": [
    {
     "data": {
      "image/png": "[encoded data removed]",
      "text/plain": [
       "<Figure size 640x480 with 1 Axes>"
      ]
     },
     "metadata": {},
     "output_type": "display_data"
    }
   ],
   "source": [
    "# Scatter plot of predicted vs actual values for linear regression\n",
    "plt.scatter(y_test, y_pred)\n",
    "plt.xlabel(\"Actual MPG\")\n",
    "plt.ylabel(\"Predicted MPG\")\n",
    "plt.title(\"Actual vs Predicted MPG (Linear Regression)\")\n",
    "plt.plot([y_test.min(), y_test.max()], [y_test.min(), y_test.max()], color='red')  # Line of perfect prediction\n",
    "plt.show()\n"
   ]
  },
  {
   "cell_type": "markdown",
   "id": "c7263b2b-674b-4854-9ef3-355f35488f63",
   "metadata": {},
   "source": [
    "## **Conclusion**\n",
    "\n",
    "In this lab, we successfully built and evaluated a multiple linear regression model to predict mpg using various car features. We enhanced the model using ridge and lasso regularization, which reduced overfitting and improved generalization. We also explored non-linear relationships, which highlighted the importance of capturing these effects in our model. The final model demonstrated reasonable predictive power, but further improvements could be explored, such as using more advanced machine learning techniques or additional feature engineering."
   ]
  }
 ],
 "metadata": {
  "kernelspec": {
   "display_name": "Python 3 (ipykernel)",
   "language": "python",
   "name": "python3"
  },
  "language_info": {
   "codemirror_mode": {
    "name": "ipython",
    "version": 3
   },
   "file_extension": ".py",
   "mimetype": "text/x-python",
   "name": "python",
   "nbconvert_exporter": "python",
   "pygments_lexer": "ipython3",
   "version": "3.11.7"
  }
 },
 "nbformat": 4,
 "nbformat_minor": 5
}
