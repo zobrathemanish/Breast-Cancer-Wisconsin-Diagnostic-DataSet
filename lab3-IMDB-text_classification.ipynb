{
 "cells": [
  {
   "cell_type": "markdown",
   "id": "fcf9efda-fd4c-43c9-99cd-a8eb3cead5db",
   "metadata": {},
   "source": [
    "<h1><center> Lab 3 : Text Classification</center></h1>\n"
   ]
  },
  {
   "cell_type": "markdown",
   "id": "50d03db3-4bac-40c2-807b-ea48722d29f4",
   "metadata": {},
   "source": [
    "<center>Manish Dangi  </center>\n"
   ]
  },
  {
   "cell_type": "markdown",
   "id": "72322d8a-1402-4097-bad3-9e25d8414ec8",
   "metadata": {},
   "source": [
    "<center>Introduction to Machine Learning </center>\n"
   ]
  },
  {
   "cell_type": "markdown",
   "id": "454a68c8-410b-4f88-8e96-538a5eb21fb6",
   "metadata": {},
   "source": [
    "<center> AIW24  </center>\n"
   ]
  },
  {
   "cell_type": "markdown",
   "id": "5770d173-1ee0-44ae-8d55-5e949b17ac75",
   "metadata": {},
   "source": [
    "<center>Muhammad Shahin </center>\n"
   ]
  },
  {
   "cell_type": "markdown",
   "id": "d1b0b1ea-894e-40cc-8932-9b81787016ce",
   "metadata": {},
   "source": [
    "<center> 10th September 2024</center>"
   ]
  },
  {
   "cell_type": "markdown",
   "id": "9ffbc812-b3f8-48a1-ad99-41fdb1026b76",
   "metadata": {},
   "source": [
    "**IMDb Movie Review Sentiment Analysis** <br>\n",
    "This notebook demonstrates the process of text classification using the IMDb Movie Reviews dataset. We will train machine learning models to predict whether a review is positive or negative, using a variety of techniques and models.\n"
   ]
  },
  {
   "cell_type": "markdown",
   "id": "4ede08c7-f066-4dd3-bb69-f57307e3e7f7",
   "metadata": {},
   "source": [
    "##  Import Libraries\n",
    "In this step, we import all the necessary libraries, including pandas for data manipulation, scikit-learn for model training, and NLTK for natural language processing tasks."
   ]
  },
  {
   "cell_type": "code",
   "execution_count": 8,
   "id": "00bc71ba-f6c4-4984-8350-730eb082c3df",
   "metadata": {},
   "outputs": [
    {
     "name": "stderr",
     "output_type": "stream",
     "text": [
      "[nltk_data] Downloading package stopwords to\n",
      "[nltk_data]     /Users/manish/nltk_data...\n",
      "[nltk_data]   Package stopwords is already up-to-date!\n"
     ]
    }
   ],
   "source": [
    "import pandas as pd\n",
    "import numpy as np\n",
    "from sklearn.model_selection import train_test_split\n",
    "from sklearn.feature_extraction.text import TfidfVectorizer\n",
    "from sklearn.svm import SVC, LinearSVC\n",
    "from sklearn.linear_model import LogisticRegression\n",
    "from sklearn.tree import DecisionTreeClassifier\n",
    "from sklearn.neighbors import KNeighborsClassifier\n",
    "from sklearn.metrics import accuracy_score, precision_score, recall_score, f1_score, classification_report, confusion_matrix\n",
    "import xgboost as xgb\n",
    "import nltk\n",
    "from nltk.corpus import stopwords\n",
    "nltk.download('stopwords')\n",
    "import matplotlib.pyplot as plt\n"
   ]
  },
  {
   "cell_type": "markdown",
   "id": "d4a3ec52-d568-4738-9bfc-acc91c86ab4e",
   "metadata": {},
   "source": [
    "## Load Dataset\n",
    "We load the IMDb Movie Reviews dataset, which consists of 50,000 labeled movie reviews (positive or negative). The dataset is evenly balanced between both classes.\n"
   ]
  },
  {
   "cell_type": "code",
   "execution_count": 9,
   "id": "649457ae-b8cf-478a-9d53-1668b5807831",
   "metadata": {},
   "outputs": [
    {
     "data": {
      "text/html": [
       "<div>\n",
       "<style scoped>\n",
       "    .dataframe tbody tr th:only-of-type {\n",
       "        vertical-align: middle;\n",
       "    }\n",
       "\n",
       "    .dataframe tbody tr th {\n",
       "        vertical-align: top;\n",
       "    }\n",
       "\n",
       "    .dataframe thead th {\n",
       "        text-align: right;\n",
       "    }\n",
       "</style>\n",
       "<table border=\"1\" class=\"dataframe\">\n",
       "  <thead>\n",
       "    <tr style=\"text-align: right;\">\n",
       "      <th></th>\n",
       "      <th>review</th>\n",
       "      <th>sentiment</th>\n",
       "    </tr>\n",
       "  </thead>\n",
       "  <tbody>\n",
       "    <tr>\n",
       "      <th>0</th>\n",
       "      <td>One of the other reviewers has mentioned that ...</td>\n",
       "      <td>positive</td>\n",
       "    </tr>\n",
       "    <tr>\n",
       "      <th>1</th>\n",
       "      <td>A wonderful little production. &lt;br /&gt;&lt;br /&gt;The...</td>\n",
       "      <td>positive</td>\n",
       "    </tr>\n",
       "    <tr>\n",
       "      <th>2</th>\n",
       "      <td>I thought this was a wonderful way to spend ti...</td>\n",
       "      <td>positive</td>\n",
       "    </tr>\n",
       "    <tr>\n",
       "      <th>3</th>\n",
       "      <td>Basically there's a family where a little boy ...</td>\n",
       "      <td>negative</td>\n",
       "    </tr>\n",
       "    <tr>\n",
       "      <th>4</th>\n",
       "      <td>Petter Mattei's \"Love in the Time of Money\" is...</td>\n",
       "      <td>positive</td>\n",
       "    </tr>\n",
       "  </tbody>\n",
       "</table>\n",
       "</div>"
      ],
      "text/plain": [
       "                                              review sentiment\n",
       "0  One of the other reviewers has mentioned that ...  positive\n",
       "1  A wonderful little production. <br /><br />The...  positive\n",
       "2  I thought this was a wonderful way to spend ti...  positive\n",
       "3  Basically there's a family where a little boy ...  negative\n",
       "4  Petter Mattei's \"Love in the Time of Money\" is...  positive"
      ]
     },
     "execution_count": 9,
     "metadata": {},
     "output_type": "execute_result"
    }
   ],
   "source": [
    "df = pd.read_csv(\"/Users/manish/Documents/UOW/ml/labs/lab3/IMDB Dataset.csv\")\n",
    "df.head()"
   ]
  },
  {
   "cell_type": "markdown",
   "id": "98703570-c10c-45c3-a96b-e9d59e95b1b4",
   "metadata": {},
   "source": [
    "## Data Exploration\n",
    "Before proceeding, we explore the dataset to check its structure, detect any missing values, and understand the distribution of the target variable (sentiment).\n",
    "\n",
    "**Dataset Shape:** We check the number of rows and columns. <br>\n",
    "**Missing Values:** Detect any missing data. <br>\n",
    "**Sentiment Distribution:** Ensure a balanced number of positive and negative reviews."
   ]
  },
  {
   "cell_type": "code",
   "execution_count": 11,
   "id": "ea5d301e-3404-4932-9a84-beeb124b186a",
   "metadata": {},
   "outputs": [
    {
     "name": "stdout",
     "output_type": "stream",
     "text": [
      "Dataset Shape: (50000, 2)\n",
      "Missing Values:\n",
      "review       0\n",
      "sentiment    0\n",
      "dtype: int64\n",
      "Sentiment Distribution:\n",
      "sentiment\n",
      "positive    25000\n",
      "negative    25000\n",
      "Name: count, dtype: int64\n"
     ]
    }
   ],
   "source": [
    "print(f\"Dataset Shape: {df.shape}\")\n",
    "print(f\"Missing Values:\\n{df.isnull().sum()}\")\n",
    "print(f\"Sentiment Distribution:\\n{df['sentiment'].value_counts()}\")"
   ]
  },
  {
   "cell_type": "markdown",
   "id": "989a161d-babf-48c9-8988-2d29c436f306",
   "metadata": {},
   "source": [
    "Output:\n",
    "\n",
    "The dataset contains 50,000 rows and 2 columns.\n",
    "No missing values.\n",
    "The sentiment column is evenly split between positive and negative reviews.\n"
   ]
  },
  {
   "cell_type": "markdown",
   "id": "77afad83-3db7-44ee-9732-595dfc707b69",
   "metadata": {},
   "source": [
    "## Data Preprocessing \n",
    "We preprocess the text data for analysis by cleaning and transforming it.<br>\n",
    "\n",
    "**Text Cleaning:** Convert all text to lowercase to ensure uniformity.\n",
    "Remove common words that don’t contribute much meaning (stopwords), using the NLTK stopwords corpus.\n",
    "<br>**Label Encoding:** The sentiment column is transformed into binary labels: 1 for positive and 0 for negative."
   ]
  },
  {
   "cell_type": "code",
   "execution_count": 33,
   "id": "b183fe80-d05c-48c4-b590-bcdbd1008e78",
   "metadata": {},
   "outputs": [],
   "source": [
    "df['cleaned_review'] = df['review'].str.lower()\n",
    "# df['cleaned_review'] = df['review']\n",
    "stop_words = set(stopwords.words('english'))\n",
    "df['cleaned_review'] = df['cleaned_review'].apply(lambda x: ' '.join([word for word in x.split() if word not in stop_words]))\n",
    "\n",
    "#df['cleaned_review'] = df['cleaned_review']\n",
    "#.apply(lambda x: ' '.join([word for word in x.split() if word not in stop_words]))\n",
    "\n",
    "#for xgboost\n",
    "df['sentiment'] = df['sentiment'].map({'positive': 1, 'negative': 0})\n"
   ]
  },
  {
   "cell_type": "markdown",
   "id": "f8b98015-f5bd-4c52-998e-d2fb34e145dd",
   "metadata": {},
   "source": [
    "## Train-Test Split\n",
    "We split the dataset into training and test sets, using 80% of the data for training and 20% for testing."
   ]
  },
  {
   "cell_type": "code",
   "execution_count": 16,
   "id": "f51b9074-ec92-4177-907b-f5e73e98360a",
   "metadata": {},
   "outputs": [],
   "source": [
    "X = df['cleaned_review']\n",
    "y = df['sentiment']\n",
    "X_train, X_test, y_train, y_test = train_test_split(X, y, test_size=0.2, random_state=42)\n"
   ]
  },
  {
   "cell_type": "markdown",
   "id": "9483e030-54d6-49a1-997b-dcdf30f143af",
   "metadata": {},
   "source": [
    "## Text Vectorization\n",
    "We convert the text data into numerical features using TF-IDF (Term Frequency-Inverse Document Frequency). This transformation converts the raw text into a matrix of TF-IDF features."
   ]
  },
  {
   "cell_type": "code",
   "execution_count": 18,
   "id": "c01bca5f-5dfb-4aca-b486-d391132c9601",
   "metadata": {},
   "outputs": [],
   "source": [
    "tfidf_vectorizer = TfidfVectorizer(stop_words='english')\n",
    "X_train_tfidf = tfidf_vectorizer.fit_transform(X_train)\n",
    "X_test_tfidf = tfidf_vectorizer.transform(X_test)"
   ]
  },
  {
   "cell_type": "markdown",
   "id": "539df9de-e88c-4a30-ab0c-ca5185170fb5",
   "metadata": {},
   "source": [
    "## Model Training\n",
    "We train different machine learning models for text classification. Each model is trained on the TF-IDF features, and then evaluated on the test data.\n",
    "\n",
    "##### **Model Descriptions:**\n",
    "\n",
    "**LinearSVC:** A linear Support Vector Classifier that finds a hyperplane to separate the two classes. <br>\n",
    "**Logistic Regression:** A linear model that predicts probabilities of binary outcomes.<br>\n",
    "**SVM:** Support Vector Machines with a linear kernel, a powerful classification algorithm.<br>\n",
    "**Decision Tree (CART):** A decision tree classifier that makes splits based on features.<br>\n",
    "**XGBoost:** An optimized gradient boosting classifier.<br>\n",
    "**KNN:** K-Nearest Neighbors classifier that predicts a label based on the majority class among the nearest neighbors<br>"
   ]
  },
  {
   "cell_type": "code",
   "execution_count": 20,
   "id": "03ef08c2-f436-42cf-86ea-d0bbaf5d68f5",
   "metadata": {},
   "outputs": [],
   "source": [
    "models = {\n",
    "    'LinearSVC': LinearSVC(),\n",
    "    'Logistic Regression': LogisticRegression(max_iter=2000),\n",
    "    'SVM': SVC(kernel='linear'),\n",
    "    'Decision Tree (CART)': DecisionTreeClassifier(),\n",
    "    'XGBoost': xgb.XGBClassifier(eval_metric='logloss'),\n",
    "    'KNN': KNeighborsClassifier()\n",
    "}\n"
   ]
  },
  {
   "cell_type": "markdown",
   "id": "cbcfd8b9-5bc1-47f8-854d-851ac913f514",
   "metadata": {},
   "source": [
    "## Model Evaluation\n",
    "We evaluate each model on the test dataset using several performance metrics:\n",
    "\n",
    "**Accuracy:** Overall percentage of correct predictions. <br>\n",
    "**Precision:** How many predicted positive reviews were actually positive. <br>\n",
    "**Recall:** How many actual positive reviews were correctly predicted.<br>\n",
    "**F1-Score:** The harmonic mean of precision and recall.<br>\n",
    "**Confusion Matrix:** A matrix that shows the true positive, true negative, false positive, and false negative counts.<br>\n"
   ]
  },
  {
   "cell_type": "code",
   "execution_count": 22,
   "id": "05c05435-52df-40fb-b3ac-d499f4b983c2",
   "metadata": {},
   "outputs": [
    {
     "name": "stdout",
     "output_type": "stream",
     "text": [
      "\n",
      "Training LinearSVC...\n",
      "\n",
      "Model: LinearSVC\n",
      "Accuracy: 0.8943\n",
      "Classification Report:\n",
      "              precision    recall  f1-score   support\n",
      "\n",
      "    Negative       0.90      0.89      0.89      4961\n",
      "    Positive       0.89      0.90      0.90      5039\n",
      "\n",
      "    accuracy                           0.89     10000\n",
      "   macro avg       0.89      0.89      0.89     10000\n",
      "weighted avg       0.89      0.89      0.89     10000\n",
      "\n",
      "Confusion Matrix:\n",
      "[[4395  566]\n",
      " [ 491 4548]]\n",
      "\n",
      "Training Logistic Regression...\n",
      "\n",
      "Model: Logistic Regression\n",
      "Accuracy: 0.8961\n",
      "Classification Report:\n",
      "              precision    recall  f1-score   support\n",
      "\n",
      "    Negative       0.91      0.88      0.89      4961\n",
      "    Positive       0.89      0.91      0.90      5039\n",
      "\n",
      "    accuracy                           0.90     10000\n",
      "   macro avg       0.90      0.90      0.90     10000\n",
      "weighted avg       0.90      0.90      0.90     10000\n",
      "\n",
      "Confusion Matrix:\n",
      "[[4370  591]\n",
      " [ 448 4591]]\n",
      "\n",
      "Training SVM...\n",
      "\n",
      "Model: SVM\n",
      "Accuracy: 0.8953\n",
      "Classification Report:\n",
      "              precision    recall  f1-score   support\n",
      "\n",
      "    Negative       0.90      0.89      0.89      4961\n",
      "    Positive       0.89      0.90      0.90      5039\n",
      "\n",
      "    accuracy                           0.90     10000\n",
      "   macro avg       0.90      0.90      0.90     10000\n",
      "weighted avg       0.90      0.90      0.90     10000\n",
      "\n",
      "Confusion Matrix:\n",
      "[[4393  568]\n",
      " [ 479 4560]]\n",
      "\n",
      "Training Decision Tree (CART)...\n",
      "\n",
      "Model: Decision Tree (CART)\n",
      "Accuracy: 0.7251\n",
      "Classification Report:\n",
      "              precision    recall  f1-score   support\n",
      "\n",
      "    Negative       0.72      0.73      0.73      4961\n",
      "    Positive       0.73      0.72      0.72      5039\n",
      "\n",
      "    accuracy                           0.73     10000\n",
      "   macro avg       0.73      0.73      0.73     10000\n",
      "weighted avg       0.73      0.73      0.73     10000\n",
      "\n",
      "Confusion Matrix:\n",
      "[[3635 1326]\n",
      " [1423 3616]]\n",
      "\n",
      "Training XGBoost...\n",
      "\n",
      "Model: XGBoost\n",
      "Accuracy: 0.8576\n",
      "Classification Report:\n",
      "              precision    recall  f1-score   support\n",
      "\n",
      "    Negative       0.87      0.84      0.85      4961\n",
      "    Positive       0.85      0.88      0.86      5039\n",
      "\n",
      "    accuracy                           0.86     10000\n",
      "   macro avg       0.86      0.86      0.86     10000\n",
      "weighted avg       0.86      0.86      0.86     10000\n",
      "\n",
      "Confusion Matrix:\n",
      "[[4162  799]\n",
      " [ 625 4414]]\n",
      "\n",
      "Training KNN...\n",
      "\n",
      "Model: KNN\n",
      "Accuracy: 0.7738\n",
      "Classification Report:\n",
      "              precision    recall  f1-score   support\n",
      "\n",
      "    Negative       0.79      0.74      0.77      4961\n",
      "    Positive       0.76      0.80      0.78      5039\n",
      "\n",
      "    accuracy                           0.77     10000\n",
      "   macro avg       0.77      0.77      0.77     10000\n",
      "weighted avg       0.77      0.77      0.77     10000\n",
      "\n",
      "Confusion Matrix:\n",
      "[[3682 1279]\n",
      " [ 983 4056]]\n"
     ]
    }
   ],
   "source": [
    "\n",
    "\n",
    "# Dictionaries to store F1 scores and accuracy for each model\n",
    "f1_scores = {}\n",
    "accuracies = {}\n",
    "\n",
    "# Train and evaluate models\n",
    "for name, model in models.items():\n",
    "    print(f\"\\nTraining {name}...\")\n",
    "    model.fit(X_train_tfidf, y_train)\n",
    "    y_pred = model.predict(X_test_tfidf)\n",
    "    \n",
    "    # Evaluate model performance\n",
    "    print(f\"\\nModel: {name}\")\n",
    "    accuracy = accuracy_score(y_test, y_pred)\n",
    "    print(f\"Accuracy: {accuracy:.4f}\")\n",
    "    \n",
    "    # Save the accuracy\n",
    "    accuracies[name] = accuracy\n",
    "    \n",
    "    print(\"Classification Report:\")\n",
    "    report = classification_report(y_test, y_pred, target_names=['Negative', 'Positive'], output_dict=True)\n",
    "    \n",
    "    # Store F1 scores for both Negative and Positive classes\n",
    "    f1_scores[name] = [report['Negative']['f1-score'], report['Positive']['f1-score']]\n",
    "    \n",
    "    print(classification_report(y_test, y_pred, target_names=['Negative', 'Positive']))\n",
    "    print(\"Confusion Matrix:\")\n",
    "    print(confusion_matrix(y_test, y_pred))\n"
   ]
  },
  {
   "cell_type": "markdown",
   "id": "1303ea6a-38b0-4897-83e7-262f71a22261",
   "metadata": {},
   "source": [
    "## Comparison"
   ]
  },
  {
   "cell_type": "code",
   "execution_count": 24,
   "id": "eebf6c54-30ae-4f5a-9ffc-ab8d2064bc12",
   "metadata": {},
   "outputs": [
    {
     "data": {
      "image/png": "[encoded data removed]",
      "text/plain": [
       "<Figure size 1000x600 with 1 Axes>"
      ]
     },
     "metadata": {},
     "output_type": "display_data"
    }
   ],
   "source": [
    "# Plot F1 scores for each model\n",
    "labels = ['Negative', 'Positive']\n",
    "x = np.arange(len(labels))  # label locations\n",
    "width = 0.2  # width of the bars\n",
    "\n",
    "# Plot the F1 scores\n",
    "fig, ax = plt.subplots(figsize=(10, 6))\n",
    "for i, (model_name, scores) in enumerate(f1_scores.items()):\n",
    "    ax.bar(x + i * width, scores, width, label=model_name)\n",
    "\n",
    "# Add labels, title, and x-axis tick labels\n",
    "ax.set_ylabel('F1 Scores')\n",
    "ax.set_title('F1 Scores by Model and Sentiment')u-\n",
    "    \n",
    "ax.set_xticks(x + width)\n",
    "ax.set_xticklabels(labels)\n",
    "ax.legend()\n",
    "\n",
    "# Display the chart\n",
    "plt.show()\n"
   ]
  },
  {
   "cell_type": "code",
   "execution_count": 28,
   "id": "1be6373c-62c6-4c0f-9888-eb778c0c144d",
   "metadata": {},
   "outputs": [
    {
     "data": {
      "image/png": "[encoded data removed]",
      "text/plain": [
       "<Figure size 800x600 with 1 Axes>"
      ]
     },
     "metadata": {},
     "output_type": "display_data"
    }
   ],
   "source": [
    "# Plot the test accuracy for each model\n",
    "model_names = list(accuracies.keys())\n",
    "accuracy_values = list(accuracies.values())\n",
    "\n",
    "fig, ax = plt.subplots(figsize=(8, 6))\n",
    "bars = ax.bar(model_names, accuracy_values, color='skyblue')\n",
    "\n",
    "# Add labels and title\n",
    "ax.set_ylabel('Test Accuracy')\n",
    "ax.set_title('Test Accuracy by Model')\n",
    "\n",
    "# Print accuracy values on top of bars\n",
    "for bar in bars:\n",
    "    height = bar.get_height()\n",
    "    ax.text(\n",
    "        bar.get_x() + bar.get_width() / 2,  # X position\n",
    "        height,                             # Y position (top of the bar)\n",
    "        f'{height:.4f}',                    # The text (accuracy score)\n",
    "        ha='center', va='bottom'            # Horizontal and vertical alignment\n",
    "    )\n",
    "\n",
    "# Display the accuracy chart\n",
    "plt.show()\n"
   ]
  },
  {
   "cell_type": "markdown",
   "id": "76715406-23e8-45df-84f1-3f75be63d98b",
   "metadata": {},
   "source": [
    "## Conclusion\n",
    "After training and evaluating various models, we can compare their performance. Based on accuracy and other metrics like F1-score, we determine logistic regression performs the best for IMDb movie review sentiment classification.\n",
    "\n",
    "**Further steps** can include:\n",
    "\n",
    "Hyperparameter tuning of the models.\n",
    "Experimenting with different feature engineering techniques like n-grams.\n",
    "Using more advanced deep learning models such as LSTM or BERT for better performance.\n"
   ]
  },
  {
   "cell_type": "code",
   "execution_count": null,
   "id": "36b5d9ff-396c-4a51-a3fc-afffdc7fbfe4",
   "metadata": {},
   "outputs": [],
   "source": []
  }
 ],
 "metadata": {
  "kernelspec": {
   "display_name": "Python 3 (ipykernel)",
   "language": "python",
   "name": "python3"
  },
  "language_info": {
   "codemirror_mode": {
    "name": "ipython",
    "version": 3
   },
   "file_extension": ".py",
   "mimetype": "text/x-python",
   "name": "python",
   "nbconvert_exporter": "python",
   "pygments_lexer": "ipython3",
   "version": "3.11.7"
  }
 },
 "nbformat": 4,
 "nbformat_minor": 5
}
